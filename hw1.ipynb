{
  "nbformat": 4,
  "nbformat_minor": 0,
  "metadata": {
    "colab": {
      "name": "hw.ipynb",
      "provenance": [],
      "mount_file_id": "1TvDQ2B-2xdDuFvkCJkS7QoNX9iiOdGCS",
      "authorship_tag": "ABX9TyM5dHY9nwxyriVMUv1F4zjX",
      "include_colab_link": true
    },
    "kernelspec": {
      "name": "python3",
      "display_name": "Python 3"
    },
    "language_info": {
      "name": "python"
    }
  },
  "cells": [
    {
      "cell_type": "markdown",
      "metadata": {
        "id": "view-in-github",
        "colab_type": "text"
      },
      "source": [
        "<a href=\"https://colab.research.google.com/github/f392r573/PHSX815_Week11/blob/main/hw1.ipynb\" target=\"_parent\"><img src=\"https://colab.research.google.com/assets/colab-badge.svg\" alt=\"Open In Colab\"/></a>"
      ]
    },
    {
      "cell_type": "markdown",
      "metadata": {
        "id": "8gdiV7B2qNaD"
      },
      "source": [
        ""
      ]
    },
    {
      "cell_type": "markdown",
      "metadata": {
        "id": "srXcYHr8qUOb"
      },
      "source": [
        "#PHSX 815 Neural Network with Keras tutorial¶\n",
        "\n",
        "#How can we predict the quality of wine based on its physical characteristics?\n",
        "\n",
        "We will download the wine_quality dataset from Tensorflow (the Keras backend) to train a neural network to predict wine quality.\n",
        "\n"
      ]
    },
    {
      "cell_type": "code",
      "metadata": {
        "id": "JsAazGbcrp6o"
      },
      "source": [
        "import matplotlib.pyplot as plt\n",
        "import seaborn as sns\n",
        "import numpy as np\n",
        "from sklearn.preprocessing import OneHotEncoder, MinMaxScaler\n",
        "from sklearn.metrics import confusion_matrix\n",
        "from sklearn.model_selection import train_test_split\n",
        "import pandas as pd\n",
        "\n",
        "import tensorflow as tf\n",
        "from tensorflow.keras.models import Sequential, Model\n",
        "from tensorflow.keras.layers import *\n",
        "# from tensorflow.keras.optimizers import SGD, Adam\n",
        "# from tensorflow.keras.activations import relu\n",
        "import tensorflow_datasets as tfds\n",
        "from IPython.core.interactiveshell import InteractiveShell\n",
        "InteractiveShell.ast_node_interactivity = \"all\""
      ],
      "execution_count": 28,
      "outputs": []
    },
    {
      "cell_type": "code",
      "metadata": {
        "colab": {
          "base_uri": "https://localhost:8080/"
        },
        "id": "RQbdc2dUr9cL",
        "outputId": "d9267fb5-7b9b-42d7-f035-b3ecb89df600"
      },
      "source": [
        "#if you want to load the data as tuples, you can use the as_supervised=True argument\n",
        "data_train = tfds.load('wine_quality',split='train',as_supervised=True)\n",
        "\n",
        "#looking at just one sample of our data\n",
        "pt = data_train.take(1)\n",
        "# type(pt)\n",
        "\n",
        "#can convert this TakeDataset object to a numpy array (can do this for the whole dataset too)\n",
        "print(\"Features and label for first entry\")\n",
        "for features, label in tfds.as_numpy(pt):\n",
        "    print(features,label)\n",
        "\n",
        "#we want to load dataset as a a dictionary of tf.Tensors (can't transform tuples to dataframe)\n",
        "data_train_white = tfds.load('wine_quality/white',split='train')\n",
        "data_train_red = tfds.load('wine_quality/red',split='train')\n",
        "\n",
        "#transform dictionary to dataframe - combining red and white wine\n",
        "df_white = tfds.as_dataframe(data_train_white)\n",
        "df_red = tfds.as_dataframe(data_train_red)\n",
        "df = pd.concat([df_white,df_red])\n",
        "\n",
        "print('number of samples',len(df['quality']))\n",
        "\n",
        "#what are our output possibilities?\n",
        "print('possible wine quality ratings',df['quality'].unique())"
      ],
      "execution_count": 29,
      "outputs": [
        {
          "output_type": "stream",
          "text": [
            "Features and label for first entry\n",
            "{'alcohol': 9.0, 'chlorides': 0.054, 'citric acid': 0.34, 'density': 1.0008, 'fixed acidity': 7.6, 'free sulfur dioxide': 44.0, 'pH': 3.22, 'residual sugar': 18.35, 'sulphates': 0.550000011920929, 'total sulfur dioxide': 197.0, 'volatile acidity': 0.32} 5\n",
            "number of samples 6497\n",
            "possible wine quality ratings [5 6 4 8 7 3 9]\n"
          ],
          "name": "stdout"
        }
      ]
    },
    {
      "cell_type": "code",
      "metadata": {
        "colab": {
          "base_uri": "https://localhost:8080/"
        },
        "id": "yZKQWrnUuR2m",
        "outputId": "b6b9a308-4efb-42f4-a739-669509798e50"
      },
      "source": [
        "#do we have any missing data (empty or NaN entries in features or labels)?\n",
        "dataNans = df.isnull().values.any()\n",
        "if not dataNans:\n",
        "    print(\"all good!\")"
      ],
      "execution_count": 30,
      "outputs": [
        {
          "output_type": "stream",
          "text": [
            "all good!\n"
          ],
          "name": "stdout"
        }
      ]
    },
    {
      "cell_type": "markdown",
      "metadata": {
        "id": "WgKzxm_w2cQu"
      },
      "source": [
        "#Preprocessing our labels\n",
        "Although this may seem like a regression task for a neural network because we are predicting a number (wine quality), the labels are actually categorical not continuous. If you look at the labels, you see that they are integer values between 5 and 9. Because this is a classification problem, we need to one-hot encode our labels. This means taking our possible outcomes and turning them into arrays of a 1 and 0's. The index of the 1 in the array will tell us which class is which. So, for example, 5 becomes [1,0,0,0,0], 6 becomes [0,1,0,0,0] and so on. We can use a function from sklearn to do this automatically.\n",
        "\n",
        "this dataset unfortunately only gives us training data - but we can set aside a portion for testing our network on. in practice, you don't want to test your network on data it has already seen (is it really a prediction if you use your model on data it was fitted to?) but, for educational purposes, we can ~randomly sample our data and call it ~iid. Here, I combine the red and white wine datasets for increased statistics. What happens if you train networks on these datasets separately? Or what happens if you use one dataset to train and one to test?"
      ]
    },
    {
      "cell_type": "code",
      "metadata": {
        "colab": {
          "base_uri": "https://localhost:8080/",
          "height": 275
        },
        "id": "pqEURSA-2oeX",
        "outputId": "3d2f3aca-5316-4103-bbdf-3d6f41207174"
      },
      "source": [
        "#it's helpful to separate our input features from our target features (quality) \n",
        "#so we can later only transform our inputs without changing our labels\n",
        "labels = df['quality']\n",
        "df = df.drop(labels='quality',axis=1)\n",
        "labels.unique()\n",
        "\n",
        "enc = OneHotEncoder(sparse=False)\n",
        "labels = enc.fit_transform(labels.to_numpy().reshape(-1,1))\n",
        "\n",
        "#make our test data\n",
        "df, df_test, labels, df_testLabels = train_test_split(df,labels,test_size=0.1)\n",
        "\n",
        "#look at the first 5 entries\n",
        "df.head()"
      ],
      "execution_count": 31,
      "outputs": [
        {
          "output_type": "execute_result",
          "data": {
            "text/plain": [
              "array([5, 6, 4, 8, 7, 3, 9])"
            ]
          },
          "metadata": {
            "tags": []
          },
          "execution_count": 31
        },
        {
          "output_type": "execute_result",
          "data": {
            "text/html": [
              "<div>\n",
              "<style scoped>\n",
              "    .dataframe tbody tr th:only-of-type {\n",
              "        vertical-align: middle;\n",
              "    }\n",
              "\n",
              "    .dataframe tbody tr th {\n",
              "        vertical-align: top;\n",
              "    }\n",
              "\n",
              "    .dataframe thead th {\n",
              "        text-align: right;\n",
              "    }\n",
              "</style>\n",
              "<table border=\"1\" class=\"dataframe\">\n",
              "  <thead>\n",
              "    <tr style=\"text-align: right;\">\n",
              "      <th></th>\n",
              "      <th>features/alcohol</th>\n",
              "      <th>features/chlorides</th>\n",
              "      <th>features/citric acid</th>\n",
              "      <th>features/density</th>\n",
              "      <th>features/fixed acidity</th>\n",
              "      <th>features/free sulfur dioxide</th>\n",
              "      <th>features/pH</th>\n",
              "      <th>features/residual sugar</th>\n",
              "      <th>features/sulphates</th>\n",
              "      <th>features/total sulfur dioxide</th>\n",
              "      <th>features/volatile acidity</th>\n",
              "    </tr>\n",
              "  </thead>\n",
              "  <tbody>\n",
              "    <tr>\n",
              "      <th>56</th>\n",
              "      <td>10.9</td>\n",
              "      <td>0.031</td>\n",
              "      <td>0.27</td>\n",
              "      <td>0.99050</td>\n",
              "      <td>5.8</td>\n",
              "      <td>12.0</td>\n",
              "      <td>3.25</td>\n",
              "      <td>1.40</td>\n",
              "      <td>0.36</td>\n",
              "      <td>77.0</td>\n",
              "      <td>0.20</td>\n",
              "    </tr>\n",
              "    <tr>\n",
              "      <th>1999</th>\n",
              "      <td>12.7</td>\n",
              "      <td>0.032</td>\n",
              "      <td>0.34</td>\n",
              "      <td>0.99000</td>\n",
              "      <td>7.2</td>\n",
              "      <td>49.0</td>\n",
              "      <td>3.16</td>\n",
              "      <td>2.70</td>\n",
              "      <td>0.39</td>\n",
              "      <td>151.0</td>\n",
              "      <td>0.20</td>\n",
              "    </tr>\n",
              "    <tr>\n",
              "      <th>2367</th>\n",
              "      <td>10.4</td>\n",
              "      <td>0.053</td>\n",
              "      <td>0.31</td>\n",
              "      <td>0.99587</td>\n",
              "      <td>7.1</td>\n",
              "      <td>32.0</td>\n",
              "      <td>3.31</td>\n",
              "      <td>6.85</td>\n",
              "      <td>0.59</td>\n",
              "      <td>211.0</td>\n",
              "      <td>0.20</td>\n",
              "    </tr>\n",
              "    <tr>\n",
              "      <th>1563</th>\n",
              "      <td>11.4</td>\n",
              "      <td>0.038</td>\n",
              "      <td>0.40</td>\n",
              "      <td>0.99010</td>\n",
              "      <td>6.9</td>\n",
              "      <td>22.0</td>\n",
              "      <td>3.03</td>\n",
              "      <td>1.30</td>\n",
              "      <td>0.39</td>\n",
              "      <td>101.0</td>\n",
              "      <td>0.25</td>\n",
              "    </tr>\n",
              "    <tr>\n",
              "      <th>4889</th>\n",
              "      <td>10.0</td>\n",
              "      <td>0.048</td>\n",
              "      <td>0.30</td>\n",
              "      <td>0.99560</td>\n",
              "      <td>6.7</td>\n",
              "      <td>40.0</td>\n",
              "      <td>3.29</td>\n",
              "      <td>6.40</td>\n",
              "      <td>0.52</td>\n",
              "      <td>251.0</td>\n",
              "      <td>0.18</td>\n",
              "    </tr>\n",
              "  </tbody>\n",
              "</table>\n",
              "</div>"
            ],
            "text/plain": [
              "      features/alcohol  ...  features/volatile acidity\n",
              "56                10.9  ...                       0.20\n",
              "1999              12.7  ...                       0.20\n",
              "2367              10.4  ...                       0.20\n",
              "1563              11.4  ...                       0.25\n",
              "4889              10.0  ...                       0.18\n",
              "\n",
              "[5 rows x 11 columns]"
            ]
          },
          "metadata": {
            "tags": []
          },
          "execution_count": 31
        }
      ]
    },
    {
      "cell_type": "markdown",
      "metadata": {
        "id": "Y-fiTVAD3K1_"
      },
      "source": [
        "#some questions to consider:¶\n",
        "- how was this data obtained? what goes into engineering the features? what does \"quality\" mean?\n",
        "- do you have to normalize your features?\n",
        "- are there any correlations among features? is this expected? how - can we encode this information to the NN or decouple these features?\n",
        "- what does the data look like?\n",
        "- do we have any missing or NaN entries?\n",
        "\n",
        "let's examine the data to see what kinds of transformations we need to make for preprocessing"
      ]
    },
    {
      "cell_type": "code",
      "metadata": {
        "colab": {
          "base_uri": "https://localhost:8080/",
          "height": 351
        },
        "id": "h_gJQ5-K6292",
        "outputId": "478e9119-38fc-4feb-9c35-7302f0b0467b"
      },
      "source": [
        "df.describe()"
      ],
      "execution_count": 32,
      "outputs": [
        {
          "output_type": "execute_result",
          "data": {
            "text/html": [
              "<div>\n",
              "<style scoped>\n",
              "    .dataframe tbody tr th:only-of-type {\n",
              "        vertical-align: middle;\n",
              "    }\n",
              "\n",
              "    .dataframe tbody tr th {\n",
              "        vertical-align: top;\n",
              "    }\n",
              "\n",
              "    .dataframe thead th {\n",
              "        text-align: right;\n",
              "    }\n",
              "</style>\n",
              "<table border=\"1\" class=\"dataframe\">\n",
              "  <thead>\n",
              "    <tr style=\"text-align: right;\">\n",
              "      <th></th>\n",
              "      <th>features/alcohol</th>\n",
              "      <th>features/chlorides</th>\n",
              "      <th>features/citric acid</th>\n",
              "      <th>features/density</th>\n",
              "      <th>features/fixed acidity</th>\n",
              "      <th>features/free sulfur dioxide</th>\n",
              "      <th>features/pH</th>\n",
              "      <th>features/residual sugar</th>\n",
              "      <th>features/sulphates</th>\n",
              "      <th>features/total sulfur dioxide</th>\n",
              "      <th>features/volatile acidity</th>\n",
              "    </tr>\n",
              "  </thead>\n",
              "  <tbody>\n",
              "    <tr>\n",
              "      <th>count</th>\n",
              "      <td>5847.000000</td>\n",
              "      <td>5847.000000</td>\n",
              "      <td>5847.000000</td>\n",
              "      <td>5847.000000</td>\n",
              "      <td>5847.000000</td>\n",
              "      <td>5847.000000</td>\n",
              "      <td>5847.000000</td>\n",
              "      <td>5847.000000</td>\n",
              "      <td>5847.000000</td>\n",
              "      <td>5847.000000</td>\n",
              "      <td>5847.000000</td>\n",
              "    </tr>\n",
              "    <tr>\n",
              "      <th>mean</th>\n",
              "      <td>10.495457</td>\n",
              "      <td>0.056101</td>\n",
              "      <td>0.317907</td>\n",
              "      <td>0.994688</td>\n",
              "      <td>7.209167</td>\n",
              "      <td>30.510091</td>\n",
              "      <td>3.219290</td>\n",
              "      <td>5.430811</td>\n",
              "      <td>0.531278</td>\n",
              "      <td>115.734565</td>\n",
              "      <td>0.339342</td>\n",
              "    </tr>\n",
              "    <tr>\n",
              "      <th>std</th>\n",
              "      <td>1.199013</td>\n",
              "      <td>0.034537</td>\n",
              "      <td>0.145352</td>\n",
              "      <td>0.003002</td>\n",
              "      <td>1.295618</td>\n",
              "      <td>17.745897</td>\n",
              "      <td>0.161345</td>\n",
              "      <td>4.748192</td>\n",
              "      <td>0.147955</td>\n",
              "      <td>56.604272</td>\n",
              "      <td>0.164604</td>\n",
              "    </tr>\n",
              "    <tr>\n",
              "      <th>min</th>\n",
              "      <td>8.000000</td>\n",
              "      <td>0.009000</td>\n",
              "      <td>0.000000</td>\n",
              "      <td>0.987110</td>\n",
              "      <td>3.800000</td>\n",
              "      <td>1.000000</td>\n",
              "      <td>2.720000</td>\n",
              "      <td>0.600000</td>\n",
              "      <td>0.220000</td>\n",
              "      <td>6.000000</td>\n",
              "      <td>0.080000</td>\n",
              "    </tr>\n",
              "    <tr>\n",
              "      <th>25%</th>\n",
              "      <td>9.500000</td>\n",
              "      <td>0.038000</td>\n",
              "      <td>0.250000</td>\n",
              "      <td>0.992300</td>\n",
              "      <td>6.400000</td>\n",
              "      <td>17.000000</td>\n",
              "      <td>3.110000</td>\n",
              "      <td>1.800000</td>\n",
              "      <td>0.430000</td>\n",
              "      <td>77.000000</td>\n",
              "      <td>0.230000</td>\n",
              "    </tr>\n",
              "    <tr>\n",
              "      <th>50%</th>\n",
              "      <td>10.300000</td>\n",
              "      <td>0.047000</td>\n",
              "      <td>0.310000</td>\n",
              "      <td>0.994880</td>\n",
              "      <td>7.000000</td>\n",
              "      <td>29.000000</td>\n",
              "      <td>3.210000</td>\n",
              "      <td>3.000000</td>\n",
              "      <td>0.510000</td>\n",
              "      <td>118.000000</td>\n",
              "      <td>0.290000</td>\n",
              "    </tr>\n",
              "    <tr>\n",
              "      <th>75%</th>\n",
              "      <td>11.300000</td>\n",
              "      <td>0.065000</td>\n",
              "      <td>0.390000</td>\n",
              "      <td>0.996920</td>\n",
              "      <td>7.700000</td>\n",
              "      <td>41.000000</td>\n",
              "      <td>3.320000</td>\n",
              "      <td>8.100000</td>\n",
              "      <td>0.600000</td>\n",
              "      <td>156.000000</td>\n",
              "      <td>0.400000</td>\n",
              "    </tr>\n",
              "    <tr>\n",
              "      <th>max</th>\n",
              "      <td>14.900000</td>\n",
              "      <td>0.611000</td>\n",
              "      <td>1.660000</td>\n",
              "      <td>1.038980</td>\n",
              "      <td>15.900000</td>\n",
              "      <td>289.000000</td>\n",
              "      <td>4.010000</td>\n",
              "      <td>65.800003</td>\n",
              "      <td>1.980000</td>\n",
              "      <td>440.000000</td>\n",
              "      <td>1.580000</td>\n",
              "    </tr>\n",
              "  </tbody>\n",
              "</table>\n",
              "</div>"
            ],
            "text/plain": [
              "       features/alcohol  ...  features/volatile acidity\n",
              "count       5847.000000  ...                5847.000000\n",
              "mean          10.495457  ...                   0.339342\n",
              "std            1.199013  ...                   0.164604\n",
              "min            8.000000  ...                   0.080000\n",
              "25%            9.500000  ...                   0.230000\n",
              "50%           10.300000  ...                   0.290000\n",
              "75%           11.300000  ...                   0.400000\n",
              "max           14.900000  ...                   1.580000\n",
              "\n",
              "[8 rows x 11 columns]"
            ]
          },
          "metadata": {
            "tags": []
          },
          "execution_count": 32
        }
      ]
    },
    {
      "cell_type": "markdown",
      "metadata": {
        "id": "lmxMSNzF7CZL"
      },
      "source": [
        "#Visualizing data\n",
        "If you want a cool and easy way to visualize not only the features, but also the correlations between features, you can use the following seaborn function, which will display the individual features on the diagonal of the subplots and the correlations between features\n",
        "\n",
        "pl = sns.pairplot(df[df.columns], diag_kind='kde')"
      ]
    },
    {
      "cell_type": "code",
      "metadata": {
        "colab": {
          "base_uri": "https://localhost:8080/",
          "height": 818
        },
        "id": "F39Cp0Q17QmU",
        "outputId": "31ed2c08-ea48-4e77-945a-3d0bb9596c1d"
      },
      "source": [
        "#visualizing our input features\n",
        "nFeatures = len(df.columns)\n",
        "nCols = 3\n",
        "nRows = int(np.ceil(nFeatures/nCols))\n",
        "cols = df.columns\n",
        "fig, axs = plt.subplots(nRows,nCols,figsize=(15,20))\n",
        "# for i, ax in enumerate(axs)\n",
        "col = 0\n",
        "for i in range(nRows):\n",
        "    for j in range(nCols):\n",
        "        if col >= nFeatures:\n",
        "            break\n",
        "        h = axs[i,j].hist(df[cols[col]])\n",
        "        h = axs[i,j].set_title(cols[col])\n",
        "        col += 1"
      ],
      "execution_count": 33,
      "outputs": [
        {
          "output_type": "display_data",
          "data": {
            "image/png": "[encoded data removed]",
            "text/plain": [
              "<Figure size 1080x1440 with 12 Axes>"
            ]
          },
          "metadata": {
            "tags": [],
            "needs_background": "light"
          }
        }
      ]
    },
    {
      "cell_type": "markdown",
      "metadata": {
        "id": "MaL1J1Df9tOy"
      },
      "source": [
        "It looks like there are two types of sulfur dioxide features: total sulfur dioxide and free sulfur dioxide. I'm not entirely sure what sulfur dioxide is (I am neither a chemist nor a sommelier) so I'm curious if there is a correlation between these features."
      ]
    },
    {
      "cell_type": "code",
      "metadata": {
        "colab": {
          "base_uri": "https://localhost:8080/",
          "height": 282
        },
        "id": "d5_12IyH9U3I",
        "outputId": "6ea61007-3639-4892-ac85-35a656de218e"
      },
      "source": [
        "plt.scatter(df['features/free sulfur dioxide'],df['features/total sulfur dioxide'])"
      ],
      "execution_count": 34,
      "outputs": [
        {
          "output_type": "execute_result",
          "data": {
            "text/plain": [
              "<matplotlib.collections.PathCollection at 0x7f50368fb1d0>"
            ]
          },
          "metadata": {
            "tags": []
          },
          "execution_count": 34
        },
        {
          "output_type": "display_data",
          "data": {
            "image/png": "[encoded data removed]",
            "text/plain": [
              "<Figure size 432x288 with 1 Axes>"
            ]
          },
          "metadata": {
            "tags": [],
            "needs_background": "light"
          }
        }
      ]
    },
    {
      "cell_type": "markdown",
      "metadata": {
        "id": "N4fovdVO9j2P"
      },
      "source": [
        "It looks like there is some correlation between these features. If I had to guess, I would say \"free sulfur dioxide\" is a subset of \"total sulfur dioxide\" but I'm not sure how or even if either of these features would affect the wine quality. This is where domain specific knowledge would be helpful! Since I have a degree in physics and not wine studies (contrary to what my weekend activities may imply) I am going to see what happens when we include both of these features in our network.\n",
        "\n",
        "This was just a cursory look at our data. In reality, data scientists will spend most of their time feature engineering, fixing incomplete datasets, cleaning data, etc. Feel free to do more exploratory analysis on the data before you pass it through to a network!"
      ]
    },
    {
      "cell_type": "markdown",
      "metadata": {
        "id": "W0KPfGTh-OQD"
      },
      "source": [
        "#Let's build our network!\n",
        "We want to build a simple DNN to essentially perform a categorization. Let's start with something simple: only a couple hidden layers and a handful of neurons. Of course, in accordance with the Universal Approximation Theorem, any function can be approximated arbitrarily well with an arbitrarily large number of layers (Lu et. al. 2017) or arbitrarily large number of neurons (Cybenko 1989). Does the network perform better or worse with an increase in layers or neurons?"
      ]
    },
    {
      "cell_type": "code",
      "metadata": {
        "colab": {
          "base_uri": "https://localhost:8080/"
        },
        "id": "lFtGceaW-TRs",
        "outputId": "3db0f03f-96ef-4fb0-f14a-94f9e15d4c41"
      },
      "source": [
        "cols = df.columns\n",
        "nClasses = len(labels[0])\n",
        "\n",
        "#using Keras's Sequential model - https://keras.io/api/models/sequential/\n",
        "model = Sequential()\n",
        "#add input layer\n",
        "model.add(Input(shape=(len(cols),))) #the input layer shape should match the number of features we have\n",
        "#add first layer of fully connected neurons\n",
        "model.add(Dense(64,activation='relu'))\n",
        "#add second layer (first hidden layer)\n",
        "model.add(Dense(64,activation='relu'))\n",
        "#and one more because why not\n",
        "model.add(Dense(64,activation='relu'))\n",
        "#finally, our output layer should have only one neuron because we are trying to predict only one number\n",
        "#notice how there is a different activation function in this layer\n",
        "#this is because we want our outputs for each class to be a probability\n",
        "model.add(Dense(nClasses,activation='softmax'))\n",
        "\n",
        "#compile our model - set our loss metric (categorical cross entropy) and optimizer (stochastic gradient descent)\n",
        "#how does the model performance change with different optimizers (ie AdaGrad, SGD, etc.)?\n",
        "model.compile(loss='CategoricalCrossentropy',optimizer='Adam',metrics=['accuracy'])\n",
        "\n",
        "#let's see a summary of our model\n",
        "model.summary()"
      ],
      "execution_count": 35,
      "outputs": [
        {
          "output_type": "stream",
          "text": [
            "Model: \"sequential_2\"\n",
            "_________________________________________________________________\n",
            "Layer (type)                 Output Shape              Param #   \n",
            "=================================================================\n",
            "dense_8 (Dense)              (None, 64)                768       \n",
            "_________________________________________________________________\n",
            "dense_9 (Dense)              (None, 64)                4160      \n",
            "_________________________________________________________________\n",
            "dense_10 (Dense)             (None, 64)                4160      \n",
            "_________________________________________________________________\n",
            "dense_11 (Dense)             (None, 7)                 455       \n",
            "=================================================================\n",
            "Total params: 9,543\n",
            "Trainable params: 9,543\n",
            "Non-trainable params: 0\n",
            "_________________________________________________________________\n"
          ],
          "name": "stdout"
        }
      ]
    },
    {
      "cell_type": "markdown",
      "metadata": {
        "id": "y5_6U7fcMrvx"
      },
      "source": [
        "As shown above, we have a network with four layers, 128 neurons/layer, for a total of ~50k trainable parameters (remember: parameters are the biases and weights that the network learns). Imagine how many parameters a large, complex network at Google has!"
      ]
    },
    {
      "cell_type": "markdown",
      "metadata": {
        "id": "zhoIL8iNM-IL"
      },
      "source": [
        "#the same model can be built using the generic Model class and slightly different syntax\n",
        "inputs = tf.keras.Input(shape=(len(cols),))\n",
        "\n",
        "outputs_L1 = Dense(64, activation='relu')(inputs)\n",
        "\n",
        "outputs_L2 = Dense(64, activation='relu')(outputs_L1)\n",
        "\n",
        "outputs_L3 = Dense(64, activation='relu')(outputs_L2)\n",
        "\n",
        "pred = Dense(1)(outputs_L3)\n",
        "\n",
        "model = Model(inputs=inputs,outputs=pred)"
      ]
    },
    {
      "cell_type": "markdown",
      "metadata": {
        "id": "A-_VrBjXNU8N"
      },
      "source": [
        "#Training our model\n",
        "Let's give our model all the input features (df), the corresponding labels (labels)\n",
        "\n",
        "There is a 20% validation split, which means that 80% of our data will be used to train the model parameters while 20% of it will be saved to \"check\" our answers. This is data that the model has not seen (been trained on) so the performance on the validation data should give us an idea of if the model is over- or underfitting.\n",
        "\n",
        "We will train for 100 epochs, which means that the entire dataset will be passed through the whole network 100 times. Our batch size is 20, meaning that 20 samples at a time are passed to the network before the parameters are updated. The shuffle argument ensures that our data is shuffled before the beginning of each epoch to reduce spurious learned correlations. What happens if you let the model run for more epochs?"
      ]
    },
    {
      "cell_type": "code",
      "metadata": {
        "colab": {
          "base_uri": "https://localhost:8080/"
        },
        "id": "lkrA5UFnRmTZ",
        "outputId": "b7fb27b5-0a92-496f-d205-9d5fccd41f0a"
      },
      "source": [
        "history = model.fit(\n",
        "    df, labels,\n",
        "    validation_split=0.3,\n",
        "    verbose=1, epochs=100, batch_size=100, shuffle=True)"
      ],
      "execution_count": 36,
      "outputs": [
        {
          "output_type": "stream",
          "text": [
            "Epoch 1/100\n",
            "41/41 [==============================] - 1s 9ms/step - loss: 3.0566 - accuracy: 0.2979 - val_loss: 1.3206 - val_accuracy: 0.4422\n",
            "Epoch 2/100\n",
            "41/41 [==============================] - 0s 4ms/step - loss: 1.2765 - accuracy: 0.4435 - val_loss: 1.2248 - val_accuracy: 0.4661\n",
            "Epoch 3/100\n",
            "41/41 [==============================] - 0s 4ms/step - loss: 1.2420 - accuracy: 0.4507 - val_loss: 1.2847 - val_accuracy: 0.4467\n",
            "Epoch 4/100\n",
            "41/41 [==============================] - 0s 4ms/step - loss: 1.2624 - accuracy: 0.4455 - val_loss: 1.2096 - val_accuracy: 0.4775\n",
            "Epoch 5/100\n",
            "41/41 [==============================] - 0s 4ms/step - loss: 1.2518 - accuracy: 0.4438 - val_loss: 1.2362 - val_accuracy: 0.4496\n",
            "Epoch 6/100\n",
            "41/41 [==============================] - 0s 5ms/step - loss: 1.2404 - accuracy: 0.4519 - val_loss: 1.1771 - val_accuracy: 0.4672\n",
            "Epoch 7/100\n",
            "41/41 [==============================] - 0s 4ms/step - loss: 1.2124 - accuracy: 0.4654 - val_loss: 1.1736 - val_accuracy: 0.4832\n",
            "Epoch 8/100\n",
            "41/41 [==============================] - 0s 4ms/step - loss: 1.2195 - accuracy: 0.4513 - val_loss: 1.2089 - val_accuracy: 0.4581\n",
            "Epoch 9/100\n",
            "41/41 [==============================] - 0s 3ms/step - loss: 1.2150 - accuracy: 0.4631 - val_loss: 1.1967 - val_accuracy: 0.4621\n",
            "Epoch 10/100\n",
            "41/41 [==============================] - 0s 3ms/step - loss: 1.2027 - accuracy: 0.4682 - val_loss: 1.1638 - val_accuracy: 0.4832\n",
            "Epoch 11/100\n",
            "41/41 [==============================] - 0s 3ms/step - loss: 1.1743 - accuracy: 0.4889 - val_loss: 1.1827 - val_accuracy: 0.4786\n",
            "Epoch 12/100\n",
            "41/41 [==============================] - 0s 4ms/step - loss: 1.1863 - accuracy: 0.4760 - val_loss: 1.1822 - val_accuracy: 0.4826\n",
            "Epoch 13/100\n",
            "41/41 [==============================] - 0s 4ms/step - loss: 1.1828 - accuracy: 0.4679 - val_loss: 1.1543 - val_accuracy: 0.4940\n",
            "Epoch 14/100\n",
            "41/41 [==============================] - 0s 4ms/step - loss: 1.1488 - accuracy: 0.4856 - val_loss: 1.1483 - val_accuracy: 0.4877\n",
            "Epoch 15/100\n",
            "41/41 [==============================] - 0s 4ms/step - loss: 1.1584 - accuracy: 0.4965 - val_loss: 1.1474 - val_accuracy: 0.4843\n",
            "Epoch 16/100\n",
            "41/41 [==============================] - 0s 4ms/step - loss: 1.1681 - accuracy: 0.4994 - val_loss: 1.1543 - val_accuracy: 0.4997\n",
            "Epoch 17/100\n",
            "41/41 [==============================] - 0s 4ms/step - loss: 1.1342 - accuracy: 0.5189 - val_loss: 1.1463 - val_accuracy: 0.4855\n",
            "Epoch 18/100\n",
            "41/41 [==============================] - 0s 3ms/step - loss: 1.1507 - accuracy: 0.5030 - val_loss: 1.1433 - val_accuracy: 0.5020\n",
            "Epoch 19/100\n",
            "41/41 [==============================] - 0s 4ms/step - loss: 1.1530 - accuracy: 0.4954 - val_loss: 1.1310 - val_accuracy: 0.4940\n",
            "Epoch 20/100\n",
            "41/41 [==============================] - 0s 4ms/step - loss: 1.1496 - accuracy: 0.5134 - val_loss: 1.1306 - val_accuracy: 0.5043\n",
            "Epoch 21/100\n",
            "41/41 [==============================] - 0s 4ms/step - loss: 1.1437 - accuracy: 0.5050 - val_loss: 1.1335 - val_accuracy: 0.4906\n",
            "Epoch 22/100\n",
            "41/41 [==============================] - 0s 3ms/step - loss: 1.1265 - accuracy: 0.5031 - val_loss: 1.1862 - val_accuracy: 0.4866\n",
            "Epoch 23/100\n",
            "41/41 [==============================] - 0s 4ms/step - loss: 1.1528 - accuracy: 0.4936 - val_loss: 1.1800 - val_accuracy: 0.4627\n",
            "Epoch 24/100\n",
            "41/41 [==============================] - 0s 3ms/step - loss: 1.1486 - accuracy: 0.4915 - val_loss: 1.1063 - val_accuracy: 0.5179\n",
            "Epoch 25/100\n",
            "41/41 [==============================] - 0s 3ms/step - loss: 1.1077 - accuracy: 0.5069 - val_loss: 1.1360 - val_accuracy: 0.4929\n",
            "Epoch 26/100\n",
            "41/41 [==============================] - 0s 3ms/step - loss: 1.1405 - accuracy: 0.4997 - val_loss: 1.2153 - val_accuracy: 0.4615\n",
            "Epoch 27/100\n",
            "41/41 [==============================] - 0s 4ms/step - loss: 1.1393 - accuracy: 0.5029 - val_loss: 1.1199 - val_accuracy: 0.4991\n",
            "Epoch 28/100\n",
            "41/41 [==============================] - 0s 4ms/step - loss: 1.0942 - accuracy: 0.5233 - val_loss: 1.1522 - val_accuracy: 0.5031\n",
            "Epoch 29/100\n",
            "41/41 [==============================] - 0s 3ms/step - loss: 1.1108 - accuracy: 0.5301 - val_loss: 1.1252 - val_accuracy: 0.5071\n",
            "Epoch 30/100\n",
            "41/41 [==============================] - 0s 4ms/step - loss: 1.1013 - accuracy: 0.5250 - val_loss: 1.0992 - val_accuracy: 0.5214\n",
            "Epoch 31/100\n",
            "41/41 [==============================] - 0s 4ms/step - loss: 1.0857 - accuracy: 0.5241 - val_loss: 1.1051 - val_accuracy: 0.5179\n",
            "Epoch 32/100\n",
            "41/41 [==============================] - 0s 4ms/step - loss: 1.1080 - accuracy: 0.5325 - val_loss: 1.1502 - val_accuracy: 0.4775\n",
            "Epoch 33/100\n",
            "41/41 [==============================] - 0s 4ms/step - loss: 1.1001 - accuracy: 0.5155 - val_loss: 1.0922 - val_accuracy: 0.5202\n",
            "Epoch 34/100\n",
            "41/41 [==============================] - 0s 4ms/step - loss: 1.0988 - accuracy: 0.5231 - val_loss: 1.0849 - val_accuracy: 0.5231\n",
            "Epoch 35/100\n",
            "41/41 [==============================] - 0s 3ms/step - loss: 1.0825 - accuracy: 0.5342 - val_loss: 1.1385 - val_accuracy: 0.5003\n",
            "Epoch 36/100\n",
            "41/41 [==============================] - 0s 4ms/step - loss: 1.1136 - accuracy: 0.5207 - val_loss: 1.1144 - val_accuracy: 0.5145\n",
            "Epoch 37/100\n",
            "41/41 [==============================] - 0s 3ms/step - loss: 1.0921 - accuracy: 0.5299 - val_loss: 1.1018 - val_accuracy: 0.5066\n",
            "Epoch 38/100\n",
            "41/41 [==============================] - 0s 3ms/step - loss: 1.1041 - accuracy: 0.5106 - val_loss: 1.1441 - val_accuracy: 0.4803\n",
            "Epoch 39/100\n",
            "41/41 [==============================] - 0s 4ms/step - loss: 1.1293 - accuracy: 0.4987 - val_loss: 1.0960 - val_accuracy: 0.5225\n",
            "Epoch 40/100\n",
            "41/41 [==============================] - 0s 4ms/step - loss: 1.0718 - accuracy: 0.5339 - val_loss: 1.0825 - val_accuracy: 0.5100\n",
            "Epoch 41/100\n",
            "41/41 [==============================] - 0s 4ms/step - loss: 1.0827 - accuracy: 0.5313 - val_loss: 1.1083 - val_accuracy: 0.5123\n",
            "Epoch 42/100\n",
            "41/41 [==============================] - 0s 4ms/step - loss: 1.0861 - accuracy: 0.5334 - val_loss: 1.0882 - val_accuracy: 0.5293\n",
            "Epoch 43/100\n",
            "41/41 [==============================] - 0s 4ms/step - loss: 1.0753 - accuracy: 0.5351 - val_loss: 1.1949 - val_accuracy: 0.4701\n",
            "Epoch 44/100\n",
            "41/41 [==============================] - 0s 4ms/step - loss: 1.0780 - accuracy: 0.5233 - val_loss: 1.0758 - val_accuracy: 0.5236\n",
            "Epoch 45/100\n",
            "41/41 [==============================] - 0s 4ms/step - loss: 1.0660 - accuracy: 0.5276 - val_loss: 1.0745 - val_accuracy: 0.5265\n",
            "Epoch 46/100\n",
            "41/41 [==============================] - 0s 4ms/step - loss: 1.0727 - accuracy: 0.5315 - val_loss: 1.1022 - val_accuracy: 0.5031\n",
            "Epoch 47/100\n",
            "41/41 [==============================] - 0s 3ms/step - loss: 1.0681 - accuracy: 0.5472 - val_loss: 1.0773 - val_accuracy: 0.5214\n",
            "Epoch 48/100\n",
            "41/41 [==============================] - 0s 3ms/step - loss: 1.0554 - accuracy: 0.5423 - val_loss: 1.0807 - val_accuracy: 0.5185\n",
            "Epoch 49/100\n",
            "41/41 [==============================] - 0s 3ms/step - loss: 1.0636 - accuracy: 0.5246 - val_loss: 1.0790 - val_accuracy: 0.5197\n",
            "Epoch 50/100\n",
            "41/41 [==============================] - 0s 4ms/step - loss: 1.0551 - accuracy: 0.5391 - val_loss: 1.1074 - val_accuracy: 0.4969\n",
            "Epoch 51/100\n",
            "41/41 [==============================] - 0s 4ms/step - loss: 1.0812 - accuracy: 0.5232 - val_loss: 1.0911 - val_accuracy: 0.5128\n",
            "Epoch 52/100\n",
            "41/41 [==============================] - 0s 4ms/step - loss: 1.1313 - accuracy: 0.5014 - val_loss: 1.1258 - val_accuracy: 0.4860\n",
            "Epoch 53/100\n",
            "41/41 [==============================] - 0s 4ms/step - loss: 1.0900 - accuracy: 0.5100 - val_loss: 1.0854 - val_accuracy: 0.5157\n",
            "Epoch 54/100\n",
            "41/41 [==============================] - 0s 4ms/step - loss: 1.0650 - accuracy: 0.5333 - val_loss: 1.0965 - val_accuracy: 0.5214\n",
            "Epoch 55/100\n",
            "41/41 [==============================] - 0s 4ms/step - loss: 1.0775 - accuracy: 0.5232 - val_loss: 1.0952 - val_accuracy: 0.5003\n",
            "Epoch 56/100\n",
            "41/41 [==============================] - 0s 4ms/step - loss: 1.0482 - accuracy: 0.5331 - val_loss: 1.0888 - val_accuracy: 0.5117\n",
            "Epoch 57/100\n",
            "41/41 [==============================] - 0s 3ms/step - loss: 1.0648 - accuracy: 0.5192 - val_loss: 1.0687 - val_accuracy: 0.5316\n",
            "Epoch 58/100\n",
            "41/41 [==============================] - 0s 4ms/step - loss: 1.0487 - accuracy: 0.5513 - val_loss: 1.1093 - val_accuracy: 0.5026\n",
            "Epoch 59/100\n",
            "41/41 [==============================] - 0s 4ms/step - loss: 1.0722 - accuracy: 0.5299 - val_loss: 1.1274 - val_accuracy: 0.4855\n",
            "Epoch 60/100\n",
            "41/41 [==============================] - 0s 3ms/step - loss: 1.0766 - accuracy: 0.5280 - val_loss: 1.1011 - val_accuracy: 0.5066\n",
            "Epoch 61/100\n",
            "41/41 [==============================] - 0s 3ms/step - loss: 1.0612 - accuracy: 0.5376 - val_loss: 1.0877 - val_accuracy: 0.5254\n",
            "Epoch 62/100\n",
            "41/41 [==============================] - 0s 3ms/step - loss: 1.0599 - accuracy: 0.5403 - val_loss: 1.0900 - val_accuracy: 0.4872\n",
            "Epoch 63/100\n",
            "41/41 [==============================] - 0s 4ms/step - loss: 1.0581 - accuracy: 0.5423 - val_loss: 1.0738 - val_accuracy: 0.5242\n",
            "Epoch 64/100\n",
            "41/41 [==============================] - 0s 3ms/step - loss: 1.0419 - accuracy: 0.5540 - val_loss: 1.0763 - val_accuracy: 0.5168\n",
            "Epoch 65/100\n",
            "41/41 [==============================] - 0s 4ms/step - loss: 1.0337 - accuracy: 0.5557 - val_loss: 1.0798 - val_accuracy: 0.5271\n",
            "Epoch 66/100\n",
            "41/41 [==============================] - 0s 4ms/step - loss: 1.0553 - accuracy: 0.5452 - val_loss: 1.1178 - val_accuracy: 0.4815\n",
            "Epoch 67/100\n",
            "41/41 [==============================] - 0s 4ms/step - loss: 1.0777 - accuracy: 0.5296 - val_loss: 1.0779 - val_accuracy: 0.5333\n",
            "Epoch 68/100\n",
            "41/41 [==============================] - 0s 4ms/step - loss: 1.0778 - accuracy: 0.5308 - val_loss: 1.0688 - val_accuracy: 0.5316\n",
            "Epoch 69/100\n",
            "41/41 [==============================] - 0s 4ms/step - loss: 1.0384 - accuracy: 0.5481 - val_loss: 1.0850 - val_accuracy: 0.5145\n",
            "Epoch 70/100\n",
            "41/41 [==============================] - 0s 4ms/step - loss: 1.0540 - accuracy: 0.5348 - val_loss: 1.0672 - val_accuracy: 0.5322\n",
            "Epoch 71/100\n",
            "41/41 [==============================] - 0s 4ms/step - loss: 1.0299 - accuracy: 0.5414 - val_loss: 1.0691 - val_accuracy: 0.5305\n",
            "Epoch 72/100\n",
            "41/41 [==============================] - 0s 4ms/step - loss: 1.0498 - accuracy: 0.5461 - val_loss: 1.0802 - val_accuracy: 0.5145\n",
            "Epoch 73/100\n",
            "41/41 [==============================] - 0s 4ms/step - loss: 1.0385 - accuracy: 0.5465 - val_loss: 1.0778 - val_accuracy: 0.5214\n",
            "Epoch 74/100\n",
            "41/41 [==============================] - 0s 4ms/step - loss: 1.0539 - accuracy: 0.5445 - val_loss: 1.0865 - val_accuracy: 0.5003\n",
            "Epoch 75/100\n",
            "41/41 [==============================] - 0s 3ms/step - loss: 1.0459 - accuracy: 0.5328 - val_loss: 1.0738 - val_accuracy: 0.5299\n",
            "Epoch 76/100\n",
            "41/41 [==============================] - 0s 3ms/step - loss: 1.0370 - accuracy: 0.5587 - val_loss: 1.0812 - val_accuracy: 0.5202\n",
            "Epoch 77/100\n",
            "41/41 [==============================] - 0s 3ms/step - loss: 1.0312 - accuracy: 0.5374 - val_loss: 1.0702 - val_accuracy: 0.5333\n",
            "Epoch 78/100\n",
            "41/41 [==============================] - 0s 4ms/step - loss: 1.0290 - accuracy: 0.5527 - val_loss: 1.0630 - val_accuracy: 0.5282\n",
            "Epoch 79/100\n",
            "41/41 [==============================] - 0s 4ms/step - loss: 1.0084 - accuracy: 0.5776 - val_loss: 1.0969 - val_accuracy: 0.4980\n",
            "Epoch 80/100\n",
            "41/41 [==============================] - 0s 4ms/step - loss: 1.0345 - accuracy: 0.5448 - val_loss: 1.0818 - val_accuracy: 0.5105\n",
            "Epoch 81/100\n",
            "41/41 [==============================] - 0s 4ms/step - loss: 1.0209 - accuracy: 0.5551 - val_loss: 1.0795 - val_accuracy: 0.5157\n",
            "Epoch 82/100\n",
            "41/41 [==============================] - 0s 4ms/step - loss: 1.0375 - accuracy: 0.5549 - val_loss: 1.0634 - val_accuracy: 0.5385\n",
            "Epoch 83/100\n",
            "41/41 [==============================] - 0s 4ms/step - loss: 1.0364 - accuracy: 0.5444 - val_loss: 1.0948 - val_accuracy: 0.5043\n",
            "Epoch 84/100\n",
            "41/41 [==============================] - 0s 4ms/step - loss: 1.0404 - accuracy: 0.5449 - val_loss: 1.0691 - val_accuracy: 0.5311\n",
            "Epoch 85/100\n",
            "41/41 [==============================] - 0s 3ms/step - loss: 1.0246 - accuracy: 0.5522 - val_loss: 1.0917 - val_accuracy: 0.5060\n",
            "Epoch 86/100\n",
            "41/41 [==============================] - 0s 4ms/step - loss: 1.0405 - accuracy: 0.5375 - val_loss: 1.0653 - val_accuracy: 0.5214\n",
            "Epoch 87/100\n",
            "41/41 [==============================] - 0s 3ms/step - loss: 1.0285 - accuracy: 0.5560 - val_loss: 1.1189 - val_accuracy: 0.4952\n",
            "Epoch 88/100\n",
            "41/41 [==============================] - 0s 4ms/step - loss: 1.0181 - accuracy: 0.5462 - val_loss: 1.0878 - val_accuracy: 0.5333\n",
            "Epoch 89/100\n",
            "41/41 [==============================] - 0s 3ms/step - loss: 1.0177 - accuracy: 0.5561 - val_loss: 1.0717 - val_accuracy: 0.5282\n",
            "Epoch 90/100\n",
            "41/41 [==============================] - 0s 4ms/step - loss: 1.0333 - accuracy: 0.5464 - val_loss: 1.0750 - val_accuracy: 0.5328\n",
            "Epoch 91/100\n",
            "41/41 [==============================] - 0s 4ms/step - loss: 1.0272 - accuracy: 0.5485 - val_loss: 1.0865 - val_accuracy: 0.5219\n",
            "Epoch 92/100\n",
            "41/41 [==============================] - 0s 4ms/step - loss: 1.0339 - accuracy: 0.5405 - val_loss: 1.0819 - val_accuracy: 0.5048\n",
            "Epoch 93/100\n",
            "41/41 [==============================] - 0s 4ms/step - loss: 1.0403 - accuracy: 0.5327 - val_loss: 1.0707 - val_accuracy: 0.5390\n",
            "Epoch 94/100\n",
            "41/41 [==============================] - 0s 3ms/step - loss: 1.0173 - accuracy: 0.5482 - val_loss: 1.0683 - val_accuracy: 0.5362\n",
            "Epoch 95/100\n",
            "41/41 [==============================] - 0s 4ms/step - loss: 1.0212 - accuracy: 0.5615 - val_loss: 1.0814 - val_accuracy: 0.5145\n",
            "Epoch 96/100\n",
            "41/41 [==============================] - 0s 4ms/step - loss: 1.0434 - accuracy: 0.5345 - val_loss: 1.0640 - val_accuracy: 0.5453\n",
            "Epoch 97/100\n",
            "41/41 [==============================] - 0s 4ms/step - loss: 1.0379 - accuracy: 0.5420 - val_loss: 1.0615 - val_accuracy: 0.5368\n",
            "Epoch 98/100\n",
            "41/41 [==============================] - 0s 4ms/step - loss: 1.0238 - accuracy: 0.5558 - val_loss: 1.0735 - val_accuracy: 0.5385\n",
            "Epoch 99/100\n",
            "41/41 [==============================] - 0s 3ms/step - loss: 1.0144 - accuracy: 0.5543 - val_loss: 1.0720 - val_accuracy: 0.5293\n",
            "Epoch 100/100\n",
            "41/41 [==============================] - 0s 3ms/step - loss: 1.0104 - accuracy: 0.5632 - val_loss: 1.0781 - val_accuracy: 0.5248\n"
          ],
          "name": "stdout"
        }
      ]
    },
    {
      "cell_type": "markdown",
      "metadata": {
        "id": "RWgMIB66SWKr"
      },
      "source": [
        "\n",
        "Let's define a function to visualize our loss"
      ]
    },
    {
      "cell_type": "code",
      "metadata": {
        "colab": {
          "base_uri": "https://localhost:8080/",
          "height": 279
        },
        "id": "yNqe9wJEScx1",
        "outputId": "e10da22e-3b45-4aca-ee76-2b56b175688a"
      },
      "source": [
        "def show_loss(history):\n",
        "    plt.figure()\n",
        "    plt.plot(history.history['val_loss'], label=\"val loss\")\n",
        "    plt.plot(history.history['loss'],label=\"train loss\")\n",
        "    plt.xlabel(\"Epoch\")\n",
        "    plt.ylabel(\"Loss\")\n",
        "    plt.legend()\n",
        "show_loss(history)"
      ],
      "execution_count": 37,
      "outputs": [
        {
          "output_type": "display_data",
          "data": {
            "image/png": "[encoded data removed]",
            "text/plain": [
              "<Figure size 432x288 with 1 Axes>"
            ]
          },
          "metadata": {
            "tags": [],
            "needs_background": "light"
          }
        }
      ]
    },
    {
      "cell_type": "markdown",
      "metadata": {
        "id": "I91vYK9hSj9H"
      },
      "source": [
        "It looks like our training loss is more or less monotonically minimized with each epoch (with some fluctuations) while the validation loss seems to be on average higher. The validation loss spikes more severely than the training loss, which is probably due to limited statistics (we only had ~6k samples and took onlt 20% of them for validation - it usually takes LOTS of data to train neural networks well!). The trend discrepancy between training and validation losses could indicate some overfitting in our model. What happens if you increase the percentage of data used for validation? Since it's pretty apparent we're overfitting to our training data, we could introduce some sort of regularization techniques, like L2 regularization (that penalizes large weights) or dropout (that randomly drops neurons in a layer with a set probability). What happens if you introduce some of these methods?"
      ]
    },
    {
      "cell_type": "markdown",
      "metadata": {
        "id": "ANh_gBziSsJy"
      },
      "source": [
        "\n",
        "#Remember that test data we set aside at the beginning?¶\n",
        "Now it's time to use it to evaluate our model performance!"
      ]
    },
    {
      "cell_type": "code",
      "metadata": {
        "colab": {
          "base_uri": "https://localhost:8080/"
        },
        "id": "mJjCpFfxTN_k",
        "outputId": "74875674-2243-4caa-f326-7108d0a9136f"
      },
      "source": [
        "_, acc = model.evaluate(df_test, df_testLabels, verbose=1)\n",
        "print('Accuracy for test data is',acc)"
      ],
      "execution_count": 38,
      "outputs": [
        {
          "output_type": "stream",
          "text": [
            "21/21 [==============================] - 0s 1ms/step - loss: 1.0954 - accuracy: 0.5169\n",
            "Accuracy for test data is 0.5169230699539185\n"
          ],
          "name": "stdout"
        }
      ]
    },
    {
      "cell_type": "markdown",
      "metadata": {
        "id": "bf1kngxRTUSw"
      },
      "source": [
        "To plot our results, I just chose the highest probability of the classes and assigned the prediction to a class based on that rounding (highest probability gets a 1, every other class gets a 0). Then, I one-hot decoded the rounded array to get a single number for the class"
      ]
    },
    {
      "cell_type": "code",
      "metadata": {
        "colab": {
          "base_uri": "https://localhost:8080/",
          "height": 295
        },
        "id": "beFEVtKWTWit",
        "outputId": "44d290de-5218-49c2-ad80-62aa004e51a8"
      },
      "source": [
        "preds = model.predict(df_test)\n",
        "preds = [i.round() for i in preds]\n",
        "\n",
        "preds = enc.inverse_transform(preds)\n",
        "testLabels = enc.inverse_transform(df_testLabels)\n",
        "cm = confusion_matrix(testLabels, preds)\n",
        "\n",
        "_ =plt.imshow(cm, cmap=plt.cm.Blues)\n",
        "_ = plt.xlabel(\"Predicted labels\")\n",
        "_ = plt.ylabel(\"True labels\")\n",
        "\n",
        "_ =plt.xticks(np.arange(0,len(np.unique(testLabels)),1),np.unique(testLabels))\n",
        "_ =plt.yticks(np.arange(0,len(np.unique(testLabels)),1),np.unique(testLabels))\n",
        "_ =plt.title('Confusion matrix ')\n",
        "_ =plt.colorbar()\n",
        "plt.show()"
      ],
      "execution_count": 39,
      "outputs": [
        {
          "output_type": "display_data",
          "data": {
            "image/png": "[encoded data removed]",
            "text/plain": [
              "<Figure size 432x288 with 2 Axes>"
            ]
          },
          "metadata": {
            "tags": [],
            "needs_background": "light"
          }
        }
      ]
    },
    {
      "cell_type": "markdown",
      "metadata": {
        "id": "9sbMGT0sTklD"
      },
      "source": [
        "It looks like our network is only predicting some of our classes. Maybe that's because really good wine (rated 8 and 9) is pretty rare? Let's check it out."
      ]
    },
    {
      "cell_type": "code",
      "metadata": {
        "colab": {
          "base_uri": "https://localhost:8080/",
          "height": 265
        },
        "id": "9ly5eeGJTr_U",
        "outputId": "451d6299-89a8-4a4a-8b92-e290590f53c1"
      },
      "source": [
        "_=plt.hist(enc.inverse_transform(labels),label='training labels')\n",
        "_=plt.hist(testLabels,label='test labels')\n",
        "_=plt.yscale('log')\n",
        "_=plt.legend()"
      ],
      "execution_count": 40,
      "outputs": [
        {
          "output_type": "display_data",
          "data": {
            "image/png": "[encoded data removed]",
            "text/plain": [
              "<Figure size 432x288 with 1 Axes>"
            ]
          },
          "metadata": {
            "tags": [],
            "needs_background": "light"
          }
        }
      ]
    },
    {
      "cell_type": "markdown",
      "metadata": {
        "id": "9jfk3-nMT0Bq"
      },
      "source": [
        "Yep! Mostly 5s, 6s, and 7s. Only a handful of really good wines (8s and 9s) and really bad wines (3s and 4s). In fact, no scores below a 3! But no perfect 10s either. Overall, I would say that the dataset is imbalanced (mostly ok wines, some bad and some good - a pretty Gaussian distribution) and could benefit from data augmentation techniques like bootstrapping! Maybe you could even generate some more data from randomly sampling a known distribution...But if you train your model on mostly ok wines, then it learns the characteristics of those wines really well. So, when it's faced with a good or bad wine, it's not as sure how to classify it. You can see if this is happening by looking at the network output, which are the probabilities for each class (ie how sure the network is this sample belongs to a certain class)."
      ]
    },
    {
      "cell_type": "markdown",
      "metadata": {
        "id": "4U8ih_OWT2z6"
      },
      "source": [
        "\n",
        "#Overall,\n",
        "our network performs ok with a training, validation, and test accuracy all around 50-60%. What could you change about the network or inputs? How do you think that would affect the model's predictions?"
      ]
    },
    {
      "cell_type": "markdown",
      "metadata": {
        "id": "FowCLhpTOVx8"
      },
      "source": [
        "The best result I could get was test accuracy of 53.8% for validation split = 0.2 , batch size =125."
      ]
    },
    {
      "cell_type": "code",
      "metadata": {
        "id": "fP3jmaogO3MF"
      },
      "source": [
        ""
      ],
      "execution_count": null,
      "outputs": []
    }
  ]
}